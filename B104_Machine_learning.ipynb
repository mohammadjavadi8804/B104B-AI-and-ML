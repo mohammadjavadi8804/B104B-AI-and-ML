{
  "cells": [
    {
      "cell_type": "markdown",
      "source": [
        "###Here is my github repository:[link text](https://github.com/mohammadjavadi8804/B104B-AI-and-ML.git)\n",
        "\n",
        "###My dataset is:online shoppers intention dataset from Kaggle. [link text](https://www.kaggle.com/datasets/imakash3011/online-shoppers-purchasing-intention-dataset)\n"
      ],
      "metadata": {
        "id": "sS5MBinJ8QAS"
      }
    },
    {
      "cell_type": "markdown",
      "source": [
        "\n",
        "\n",
        "\n",
        "\n",
        "\n",
        "###1-Problem Statement and Business case:\n",
        "\n",
        "\n",
        "**the task:**\n",
        "\n",
        "Predict whether an online shopper will complete a purchase or not(binary classification).\n",
        "\n",
        "**why:**\n",
        "\n",
        "improving conversion targeting, marketing ROI, and personalized interventions.\n",
        "\n",
        "**Dataset:**\n",
        "\n",
        "online shoppers intention(Kaggle).\n",
        "\n",
        "\n"
      ],
      "metadata": {
        "id": "vfryUlmfnShB"
      }
    },
    {
      "cell_type": "markdown",
      "source": [
        "The business problem that I am addressing is predicting whether an online shopper will complete a purchase.\n",
        "\n",
        "\n",
        "I think it is really important for e-commer companie and there are many reasons behind it.\n",
        "•\tMost website visitors do not convert into paying customers.\n",
        "•\tUndestanding purchase intention helps the business focus marketing, promotions, and product recommendations.\n",
        "•\tBy predicting conversion likelihood in real time, the company can offer targeteddiscounts, customize theshopping journey, and allocate resources more effectively.\n",
        "\n",
        "\n",
        "My dataset is online shoppers intention dataset from Kaggle.\n",
        "[link text](https://www.kaggle.com/datasets/imakash3011/online-shoppers-purchasing-intention-dataset)\n",
        "\n",
        "\n",
        "Following this, it contains information about user sessions on an e-commerce site, including session duration, page views, bounce rates, month, visitor type, and whether the session resulted in a purchase(‘Revenue’)\n",
        "\n",
        "\n"
      ],
      "metadata": {
        "id": "HKcOiDJCrQnb"
      }
    },
    {
      "cell_type": "code",
      "execution_count": null,
      "metadata": {
        "id": "DacZoUe7sRrX"
      },
      "outputs": [],
      "source": [
        "import pandas as pd\n",
        "import numpy as np\n",
        "\n",
        "\n",
        "from sklearn.model_selection import train_test_split, GridSearchCV\n",
        "from sklearn.impute import SimpleImputer\n",
        "from sklearn.preprocessing import OneHotEncoder, StandardScaler\n",
        "from sklearn.compose import ColumnTransformer\n",
        "from sklearn.metrics import classification_report, confusion_matrix, roc_auc_score, RocCurveDisplay\n",
        "from sklearn.pipeline import Pipeline\n",
        "from imblearn.pipeline import Pipeline as ImbPipeline\n",
        "from imblearn.over_sampling import SMOTE\n",
        "from sklearn.svm import SVC\n",
        "from sklearn.ensemble import RandomForestClassifier, GradientBoostingClassifier\n",
        "from sklearn.linear_model import LogisticRegression\n",
        "from sklearn.tree import DecisionTreeClassifier\n",
        "from sklearn.metrics import classification_report, roc_auc_score, confusion_matrix\n",
        "from sklearn.inspection import permutation_importance\n",
        "from sklearn.decomposition import PCA\n",
        "import joblib\n"
      ]
    },
    {
      "cell_type": "markdown",
      "source": [
        "###2-Load the dataset"
      ],
      "metadata": {
        "id": "1xzcKQzXCbnd"
      }
    },
    {
      "cell_type": "code",
      "source": [
        "from google.colab import drive\n",
        "drive.mount('/content/drive')\n",
        "import pandas as pd\n",
        "df = pd.read_csv('/content/drive/MyDrive/online_shoppers_intention.csv')\n",
        "print(df.shape)\n"
      ],
      "metadata": {
        "colab": {
          "base_uri": "https://localhost:8080/",
          "height": 0
        },
        "id": "oX9k3q8Nwx3x",
        "outputId": "86bf7a6a-438d-402e-b840-c4fa9d2ebd96"
      },
      "execution_count": 17,
      "outputs": [
        {
          "output_type": "stream",
          "name": "stdout",
          "text": [
            "Drive already mounted at /content/drive; to attempt to forcibly remount, call drive.mount(\"/content/drive\", force_remount=True).\n",
            "(12330, 18)\n"
          ]
        }
      ]
    },
    {
      "cell_type": "markdown",
      "source": [
        "A quick view of columns, datatypes, and summary statistics.\n",
        "\n",
        "It helps identify implicit missing values and candidate features."
      ],
      "metadata": {
        "id": "KzWRa5h64fy4"
      }
    },
    {
      "cell_type": "code",
      "execution_count": null,
      "metadata": {
        "colab": {
          "base_uri": "https://localhost:8080/"
        },
        "id": "XdZCyZ4cVAlu",
        "outputId": "bcb79429-5709-4c77-81d5-03cbfe73d305"
      },
      "outputs": [
        {
          "output_type": "stream",
          "name": "stdout",
          "text": [
            "<class 'pandas.core.frame.DataFrame'>\n",
            "RangeIndex: 12330 entries, 0 to 12329\n",
            "Data columns (total 18 columns):\n",
            " #   Column                   Non-Null Count  Dtype  \n",
            "---  ------                   --------------  -----  \n",
            " 0   Administrative           12330 non-null  int64  \n",
            " 1   Administrative_Duration  12330 non-null  float64\n",
            " 2   Informational            12330 non-null  int64  \n",
            " 3   Informational_Duration   12330 non-null  float64\n",
            " 4   ProductRelated           12330 non-null  int64  \n",
            " 5   ProductRelated_Duration  12330 non-null  float64\n",
            " 6   BounceRates              12330 non-null  float64\n",
            " 7   ExitRates                12330 non-null  float64\n",
            " 8   PageValues               12330 non-null  float64\n",
            " 9   SpecialDay               12330 non-null  float64\n",
            " 10  Month                    12330 non-null  object \n",
            " 11  OperatingSystems         12330 non-null  int64  \n",
            " 12  Browser                  12330 non-null  int64  \n",
            " 13  Region                   12330 non-null  int64  \n",
            " 14  TrafficType              12330 non-null  int64  \n",
            " 15  VisitorType              12330 non-null  object \n",
            " 16  Weekend                  12330 non-null  bool   \n",
            " 17  Revenue                  12330 non-null  bool   \n",
            "dtypes: bool(2), float64(7), int64(7), object(2)\n",
            "memory usage: 1.5+ MB\n",
            "None\n",
            "                           count unique  top freq       mean         std  min  \\\n",
            "Administrative           12330.0    NaN  NaN  NaN   2.315166    3.321784  0.0   \n",
            "Administrative_Duration  12330.0    NaN  NaN  NaN  80.818611  176.779107  0.0   \n",
            "Informational            12330.0    NaN  NaN  NaN   0.503569    1.270156  0.0   \n",
            "Informational_Duration   12330.0    NaN  NaN  NaN  34.472398  140.749294  0.0   \n",
            "ProductRelated           12330.0    NaN  NaN  NaN  31.731468   44.475503  0.0   \n",
            "\n",
            "                         25%   50%       75%       max  \n",
            "Administrative           0.0   1.0       4.0      27.0  \n",
            "Administrative_Duration  0.0   7.5  93.25625   3398.75  \n",
            "Informational            0.0   0.0       0.0      24.0  \n",
            "Informational_Duration   0.0   0.0       0.0  2549.375  \n",
            "ProductRelated           7.0  18.0      38.0     705.0  \n"
          ]
        }
      ],
      "source": [
        "print(df.info())\n",
        "print(df.describe(include='all').T.head())\n"
      ]
    },
    {
      "cell_type": "markdown",
      "source": [
        "###2-Data Exploration:\n",
        "\n",
        "\n",
        "Handle implicit missing values\n",
        "\n",
        "Replacing common placeholders like '?' with NaN and inspect counts."
      ],
      "metadata": {
        "id": "Ccpl85uHVjco"
      }
    },
    {
      "cell_type": "code",
      "execution_count": null,
      "metadata": {
        "colab": {
          "base_uri": "https://localhost:8080/"
        },
        "id": "Eyl0vo1nyCcd",
        "outputId": "cf6b970d-280e-40e4-f486-52c60ecf1a11"
      },
      "outputs": [
        {
          "output_type": "stream",
          "name": "stdout",
          "text": [
            "Administrative             0\n",
            "Administrative_Duration    0\n",
            "Informational              0\n",
            "Informational_Duration     0\n",
            "ProductRelated             0\n",
            "ProductRelated_Duration    0\n",
            "BounceRates                0\n",
            "ExitRates                  0\n",
            "PageValues                 0\n",
            "SpecialDay                 0\n",
            "Month                      0\n",
            "OperatingSystems           0\n",
            "Browser                    0\n",
            "Region                     0\n",
            "TrafficType                0\n",
            "VisitorType                0\n",
            "Weekend                    0\n",
            "Revenue                    0\n",
            "dtype: int64\n"
          ]
        }
      ],
      "source": [
        "for col in df.select_dtypes(include='object').columns:\n",
        "  df[col] = df[col].replace('?', np.nan)\n",
        "print(df.isnull().sum())"
      ]
    },
    {
      "cell_type": "markdown",
      "source": [
        "Train-test split\n",
        "\n",
        "stratify to keep the target class ration in train and test sets."
      ],
      "metadata": {
        "id": "Wgzw0JvOaJcU"
      }
    },
    {
      "cell_type": "code",
      "execution_count": null,
      "metadata": {
        "id": "UkpeLXsN33Zq"
      },
      "outputs": [],
      "source": [
        "target_column = 'Revenue'\n",
        "x = df.drop(columns=[target_column])\n",
        "y = df[target_column]\n",
        "X_train, X_test, y_train, y_test = train_test_split(\n",
        "    x, y, test_size=0.2, stratify=y, random_state=42\n",
        "    )"
      ]
    },
    {
      "cell_type": "markdown",
      "source": [
        "Feature Typing:\n",
        "\n",
        "automatically separate numeric and categorical features, adjust manually if needed."
      ],
      "metadata": {
        "id": "EPD6oKaLb9wx"
      }
    },
    {
      "cell_type": "code",
      "execution_count": null,
      "metadata": {
        "colab": {
          "base_uri": "https://localhost:8080/"
        },
        "id": "xSDL3pdvOiX9",
        "outputId": "df68bbb7-5a49-4da9-d889-b61a903da734"
      },
      "outputs": [
        {
          "output_type": "stream",
          "name": "stdout",
          "text": [
            "Numeric: ['Administrative', 'Administrative_Duration', 'Informational', 'Informational_Duration', 'ProductRelated', 'ProductRelated_Duration', 'BounceRates', 'ExitRates', 'PageValues', 'SpecialDay', 'OperatingSystems', 'Browser', 'Region', 'TrafficType']\n",
            "Categorical: ['Month', 'VisitorType', 'Weekend']\n"
          ]
        }
      ],
      "source": [
        "y = df['Revenue']\n",
        "X = df.drop(columns=['Revenue'])\n",
        "numeric_features = X.select_dtypes(include=['int64', 'float64']).columns.tolist()\n",
        "categorical_features = X.select_dtypes(include=['object', 'bool', 'category']).columns.tolist()\n",
        "#For printing\n",
        "print(\"Numeric:\", numeric_features)\n",
        "print(\"Categorical:\", categorical_features)\n"
      ]
    },
    {
      "cell_type": "markdown",
      "source": [
        "###3-Preprocessing Pipelines:\n",
        "Imputing numeric (median) and scale, impute categorical (most frequent) and one-hot encode."
      ],
      "metadata": {
        "id": "60v4cuYxcaNb"
      }
    },
    {
      "cell_type": "code",
      "execution_count": null,
      "metadata": {
        "id": "q2fHZgjvX3pf"
      },
      "outputs": [],
      "source": [
        "numeric_transformer = Pipeline(steps=[\n",
        "    ('imputer', SimpleImputer(strategy='median')),\n",
        "    ('scaler', StandardScaler()),\n",
        "])\n",
        "\n",
        "categorical_transformer = Pipeline(steps=[\n",
        "    ('imputer', SimpleImputer(strategy='most_frequent')),\n",
        "    ('onehot', OneHotEncoder(handle_unknown='ignore', sparse_output=False)),\n",
        "\n",
        "])\n",
        "\n",
        "preprocessor = ColumnTransformer(transformers=[\n",
        "    ('num', numeric_transformer, numeric_features),\n",
        "    ('cat', categorical_transformer,categorical_features),\n",
        "], remainder='drop')\n"
      ]
    },
    {
      "cell_type": "markdown",
      "source": [
        "###Quick Preprocessing test:\n",
        " (fit on training data only)\n",
        "\n",
        "For ensuring pipeline runs and produces expected shapes.\n"
      ],
      "metadata": {
        "id": "wWvIE7_vdoQ-"
      }
    },
    {
      "cell_type": "code",
      "source": [
        "preprocessor.fit(X_train)\n",
        "Xt = preprocessor.transform(X_train)\n",
        "print('Processed train shape:', Xt.shape)\n"
      ],
      "metadata": {
        "colab": {
          "base_uri": "https://localhost:8080/"
        },
        "id": "jWkMCnQYdn7I",
        "outputId": "429969b5-8f84-41a4-bb45-f4a0d9bb5f14"
      },
      "execution_count": null,
      "outputs": [
        {
          "output_type": "stream",
          "name": "stdout",
          "text": [
            "Processed train shape: (9864, 29)\n"
          ]
        }
      ]
    },
    {
      "cell_type": "markdown",
      "source": [
        "###4-Modeling training and tuning:\n",
        "\n",
        "compare several models with SMOTE in pipeline.\n",
        "\n",
        "use an imbalanced learn pipeline so SMOTE is applied only during training.\n"
      ],
      "metadata": {
        "id": "_ESEBsLMe2I4"
      }
    },
    {
      "cell_type": "code",
      "execution_count": null,
      "metadata": {
        "colab": {
          "base_uri": "https://localhost:8080/",
          "height": 289
        },
        "id": "oW_MdpIyfSON",
        "outputId": "e0fa769c-9a67-4bde-ff47-20bc1ba05f38"
      },
      "outputs": [
        {
          "output_type": "stream",
          "name": "stdout",
          "text": [
            "Logistic Regression finished.\n",
            "Decision Tree finished.\n",
            "Random Forest finished.\n",
            "Gradient Boosting finished.\n",
            "SVM finished.\n"
          ]
        },
        {
          "output_type": "execute_result",
          "data": {
            "text/plain": [
              "                 Model  F1 Score   ROC AUC\n",
              "0  Logistic Regression  0.856754  0.896967\n",
              "1        Decision Tree  0.865105  0.765083\n",
              "2        Random Forest  0.888088  0.919471\n",
              "3    Gradient Boosting  0.896527  0.927316\n",
              "4                  SVM  0.871890  0.881909"
            ],
            "text/html": [
              "\n",
              "  <div id=\"df-7e0b8027-ae69-4c20-85f7-f4e9e9a1044b\" class=\"colab-df-container\">\n",
              "    <div>\n",
              "<style scoped>\n",
              "    .dataframe tbody tr th:only-of-type {\n",
              "        vertical-align: middle;\n",
              "    }\n",
              "\n",
              "    .dataframe tbody tr th {\n",
              "        vertical-align: top;\n",
              "    }\n",
              "\n",
              "    .dataframe thead th {\n",
              "        text-align: right;\n",
              "    }\n",
              "</style>\n",
              "<table border=\"1\" class=\"dataframe\">\n",
              "  <thead>\n",
              "    <tr style=\"text-align: right;\">\n",
              "      <th></th>\n",
              "      <th>Model</th>\n",
              "      <th>F1 Score</th>\n",
              "      <th>ROC AUC</th>\n",
              "    </tr>\n",
              "  </thead>\n",
              "  <tbody>\n",
              "    <tr>\n",
              "      <th>0</th>\n",
              "      <td>Logistic Regression</td>\n",
              "      <td>0.856754</td>\n",
              "      <td>0.896967</td>\n",
              "    </tr>\n",
              "    <tr>\n",
              "      <th>1</th>\n",
              "      <td>Decision Tree</td>\n",
              "      <td>0.865105</td>\n",
              "      <td>0.765083</td>\n",
              "    </tr>\n",
              "    <tr>\n",
              "      <th>2</th>\n",
              "      <td>Random Forest</td>\n",
              "      <td>0.888088</td>\n",
              "      <td>0.919471</td>\n",
              "    </tr>\n",
              "    <tr>\n",
              "      <th>3</th>\n",
              "      <td>Gradient Boosting</td>\n",
              "      <td>0.896527</td>\n",
              "      <td>0.927316</td>\n",
              "    </tr>\n",
              "    <tr>\n",
              "      <th>4</th>\n",
              "      <td>SVM</td>\n",
              "      <td>0.871890</td>\n",
              "      <td>0.881909</td>\n",
              "    </tr>\n",
              "  </tbody>\n",
              "</table>\n",
              "</div>\n",
              "    <div class=\"colab-df-buttons\">\n",
              "\n",
              "  <div class=\"colab-df-container\">\n",
              "    <button class=\"colab-df-convert\" onclick=\"convertToInteractive('df-7e0b8027-ae69-4c20-85f7-f4e9e9a1044b')\"\n",
              "            title=\"Convert this dataframe to an interactive table.\"\n",
              "            style=\"display:none;\">\n",
              "\n",
              "  <svg xmlns=\"http://www.w3.org/2000/svg\" height=\"24px\" viewBox=\"0 -960 960 960\">\n",
              "    <path d=\"M120-120v-720h720v720H120Zm60-500h600v-160H180v160Zm220 220h160v-160H400v160Zm0 220h160v-160H400v160ZM180-400h160v-160H180v160Zm440 0h160v-160H620v160ZM180-180h160v-160H180v160Zm440 0h160v-160H620v160Z\"/>\n",
              "  </svg>\n",
              "    </button>\n",
              "\n",
              "  <style>\n",
              "    .colab-df-container {\n",
              "      display:flex;\n",
              "      gap: 12px;\n",
              "    }\n",
              "\n",
              "    .colab-df-convert {\n",
              "      background-color: #E8F0FE;\n",
              "      border: none;\n",
              "      border-radius: 50%;\n",
              "      cursor: pointer;\n",
              "      display: none;\n",
              "      fill: #1967D2;\n",
              "      height: 32px;\n",
              "      padding: 0 0 0 0;\n",
              "      width: 32px;\n",
              "    }\n",
              "\n",
              "    .colab-df-convert:hover {\n",
              "      background-color: #E2EBFA;\n",
              "      box-shadow: 0px 1px 2px rgba(60, 64, 67, 0.3), 0px 1px 3px 1px rgba(60, 64, 67, 0.15);\n",
              "      fill: #174EA6;\n",
              "    }\n",
              "\n",
              "    .colab-df-buttons div {\n",
              "      margin-bottom: 4px;\n",
              "    }\n",
              "\n",
              "    [theme=dark] .colab-df-convert {\n",
              "      background-color: #3B4455;\n",
              "      fill: #D2E3FC;\n",
              "    }\n",
              "\n",
              "    [theme=dark] .colab-df-convert:hover {\n",
              "      background-color: #434B5C;\n",
              "      box-shadow: 0px 1px 3px 1px rgba(0, 0, 0, 0.15);\n",
              "      filter: drop-shadow(0px 1px 2px rgba(0, 0, 0, 0.3));\n",
              "      fill: #FFFFFF;\n",
              "    }\n",
              "  </style>\n",
              "\n",
              "    <script>\n",
              "      const buttonEl =\n",
              "        document.querySelector('#df-7e0b8027-ae69-4c20-85f7-f4e9e9a1044b button.colab-df-convert');\n",
              "      buttonEl.style.display =\n",
              "        google.colab.kernel.accessAllowed ? 'block' : 'none';\n",
              "\n",
              "      async function convertToInteractive(key) {\n",
              "        const element = document.querySelector('#df-7e0b8027-ae69-4c20-85f7-f4e9e9a1044b');\n",
              "        const dataTable =\n",
              "          await google.colab.kernel.invokeFunction('convertToInteractive',\n",
              "                                                    [key], {});\n",
              "        if (!dataTable) return;\n",
              "\n",
              "        const docLinkHtml = 'Like what you see? Visit the ' +\n",
              "          '<a target=\"_blank\" href=https://colab.research.google.com/notebooks/data_table.ipynb>data table notebook</a>'\n",
              "          + ' to learn more about interactive tables.';\n",
              "        element.innerHTML = '';\n",
              "        dataTable['output_type'] = 'display_data';\n",
              "        await google.colab.output.renderOutput(dataTable, element);\n",
              "        const docLink = document.createElement('div');\n",
              "        docLink.innerHTML = docLinkHtml;\n",
              "        element.appendChild(docLink);\n",
              "      }\n",
              "    </script>\n",
              "  </div>\n",
              "\n",
              "\n",
              "    <div id=\"df-ccf5c29c-2c0b-4e6a-80eb-b8b9d0a28582\">\n",
              "      <button class=\"colab-df-quickchart\" onclick=\"quickchart('df-ccf5c29c-2c0b-4e6a-80eb-b8b9d0a28582')\"\n",
              "                title=\"Suggest charts\"\n",
              "                style=\"display:none;\">\n",
              "\n",
              "<svg xmlns=\"http://www.w3.org/2000/svg\" height=\"24px\"viewBox=\"0 0 24 24\"\n",
              "     width=\"24px\">\n",
              "    <g>\n",
              "        <path d=\"M19 3H5c-1.1 0-2 .9-2 2v14c0 1.1.9 2 2 2h14c1.1 0 2-.9 2-2V5c0-1.1-.9-2-2-2zM9 17H7v-7h2v7zm4 0h-2V7h2v10zm4 0h-2v-4h2v4z\"/>\n",
              "    </g>\n",
              "</svg>\n",
              "      </button>\n",
              "\n",
              "<style>\n",
              "  .colab-df-quickchart {\n",
              "      --bg-color: #E8F0FE;\n",
              "      --fill-color: #1967D2;\n",
              "      --hover-bg-color: #E2EBFA;\n",
              "      --hover-fill-color: #174EA6;\n",
              "      --disabled-fill-color: #AAA;\n",
              "      --disabled-bg-color: #DDD;\n",
              "  }\n",
              "\n",
              "  [theme=dark] .colab-df-quickchart {\n",
              "      --bg-color: #3B4455;\n",
              "      --fill-color: #D2E3FC;\n",
              "      --hover-bg-color: #434B5C;\n",
              "      --hover-fill-color: #FFFFFF;\n",
              "      --disabled-bg-color: #3B4455;\n",
              "      --disabled-fill-color: #666;\n",
              "  }\n",
              "\n",
              "  .colab-df-quickchart {\n",
              "    background-color: var(--bg-color);\n",
              "    border: none;\n",
              "    border-radius: 50%;\n",
              "    cursor: pointer;\n",
              "    display: none;\n",
              "    fill: var(--fill-color);\n",
              "    height: 32px;\n",
              "    padding: 0;\n",
              "    width: 32px;\n",
              "  }\n",
              "\n",
              "  .colab-df-quickchart:hover {\n",
              "    background-color: var(--hover-bg-color);\n",
              "    box-shadow: 0 1px 2px rgba(60, 64, 67, 0.3), 0 1px 3px 1px rgba(60, 64, 67, 0.15);\n",
              "    fill: var(--button-hover-fill-color);\n",
              "  }\n",
              "\n",
              "  .colab-df-quickchart-complete:disabled,\n",
              "  .colab-df-quickchart-complete:disabled:hover {\n",
              "    background-color: var(--disabled-bg-color);\n",
              "    fill: var(--disabled-fill-color);\n",
              "    box-shadow: none;\n",
              "  }\n",
              "\n",
              "  .colab-df-spinner {\n",
              "    border: 2px solid var(--fill-color);\n",
              "    border-color: transparent;\n",
              "    border-bottom-color: var(--fill-color);\n",
              "    animation:\n",
              "      spin 1s steps(1) infinite;\n",
              "  }\n",
              "\n",
              "  @keyframes spin {\n",
              "    0% {\n",
              "      border-color: transparent;\n",
              "      border-bottom-color: var(--fill-color);\n",
              "      border-left-color: var(--fill-color);\n",
              "    }\n",
              "    20% {\n",
              "      border-color: transparent;\n",
              "      border-left-color: var(--fill-color);\n",
              "      border-top-color: var(--fill-color);\n",
              "    }\n",
              "    30% {\n",
              "      border-color: transparent;\n",
              "      border-left-color: var(--fill-color);\n",
              "      border-top-color: var(--fill-color);\n",
              "      border-right-color: var(--fill-color);\n",
              "    }\n",
              "    40% {\n",
              "      border-color: transparent;\n",
              "      border-right-color: var(--fill-color);\n",
              "      border-top-color: var(--fill-color);\n",
              "    }\n",
              "    60% {\n",
              "      border-color: transparent;\n",
              "      border-right-color: var(--fill-color);\n",
              "    }\n",
              "    80% {\n",
              "      border-color: transparent;\n",
              "      border-right-color: var(--fill-color);\n",
              "      border-bottom-color: var(--fill-color);\n",
              "    }\n",
              "    90% {\n",
              "      border-color: transparent;\n",
              "      border-bottom-color: var(--fill-color);\n",
              "    }\n",
              "  }\n",
              "</style>\n",
              "\n",
              "      <script>\n",
              "        async function quickchart(key) {\n",
              "          const quickchartButtonEl =\n",
              "            document.querySelector('#' + key + ' button');\n",
              "          quickchartButtonEl.disabled = true;  // To prevent multiple clicks.\n",
              "          quickchartButtonEl.classList.add('colab-df-spinner');\n",
              "          try {\n",
              "            const charts = await google.colab.kernel.invokeFunction(\n",
              "                'suggestCharts', [key], {});\n",
              "          } catch (error) {\n",
              "            console.error('Error during call to suggestCharts:', error);\n",
              "          }\n",
              "          quickchartButtonEl.classList.remove('colab-df-spinner');\n",
              "          quickchartButtonEl.classList.add('colab-df-quickchart-complete');\n",
              "        }\n",
              "        (() => {\n",
              "          let quickchartButtonEl =\n",
              "            document.querySelector('#df-ccf5c29c-2c0b-4e6a-80eb-b8b9d0a28582 button');\n",
              "          quickchartButtonEl.style.display =\n",
              "            google.colab.kernel.accessAllowed ? 'block' : 'none';\n",
              "        })();\n",
              "      </script>\n",
              "    </div>\n",
              "\n",
              "  <div id=\"id_0090491c-b328-4bfb-8131-fea4047bd662\">\n",
              "    <style>\n",
              "      .colab-df-generate {\n",
              "        background-color: #E8F0FE;\n",
              "        border: none;\n",
              "        border-radius: 50%;\n",
              "        cursor: pointer;\n",
              "        display: none;\n",
              "        fill: #1967D2;\n",
              "        height: 32px;\n",
              "        padding: 0 0 0 0;\n",
              "        width: 32px;\n",
              "      }\n",
              "\n",
              "      .colab-df-generate:hover {\n",
              "        background-color: #E2EBFA;\n",
              "        box-shadow: 0px 1px 2px rgba(60, 64, 67, 0.3), 0px 1px 3px 1px rgba(60, 64, 67, 0.15);\n",
              "        fill: #174EA6;\n",
              "      }\n",
              "\n",
              "      [theme=dark] .colab-df-generate {\n",
              "        background-color: #3B4455;\n",
              "        fill: #D2E3FC;\n",
              "      }\n",
              "\n",
              "      [theme=dark] .colab-df-generate:hover {\n",
              "        background-color: #434B5C;\n",
              "        box-shadow: 0px 1px 3px 1px rgba(0, 0, 0, 0.15);\n",
              "        filter: drop-shadow(0px 1px 2px rgba(0, 0, 0, 0.3));\n",
              "        fill: #FFFFFF;\n",
              "      }\n",
              "    </style>\n",
              "    <button class=\"colab-df-generate\" onclick=\"generateWithVariable('results_df')\"\n",
              "            title=\"Generate code using this dataframe.\"\n",
              "            style=\"display:none;\">\n",
              "\n",
              "  <svg xmlns=\"http://www.w3.org/2000/svg\" height=\"24px\"viewBox=\"0 0 24 24\"\n",
              "       width=\"24px\">\n",
              "    <path d=\"M7,19H8.4L18.45,9,17,7.55,7,17.6ZM5,21V16.75L18.45,3.32a2,2,0,0,1,2.83,0l1.4,1.43a1.91,1.91,0,0,1,.58,1.4,1.91,1.91,0,0,1-.58,1.4L9.25,21ZM18.45,9,17,7.55Zm-12,3A5.31,5.31,0,0,0,4.9,8.1,5.31,5.31,0,0,0,1,6.5,5.31,5.31,0,0,0,4.9,4.9,5.31,5.31,0,0,0,6.5,1,5.31,5.31,0,0,0,8.1,4.9,5.31,5.31,0,0,0,12,6.5,5.46,5.46,0,0,0,6.5,12Z\"/>\n",
              "  </svg>\n",
              "    </button>\n",
              "    <script>\n",
              "      (() => {\n",
              "      const buttonEl =\n",
              "        document.querySelector('#id_0090491c-b328-4bfb-8131-fea4047bd662 button.colab-df-generate');\n",
              "      buttonEl.style.display =\n",
              "        google.colab.kernel.accessAllowed ? 'block' : 'none';\n",
              "\n",
              "      buttonEl.onclick = () => {\n",
              "        google.colab.notebook.generateWithVariable('results_df');\n",
              "      }\n",
              "      })();\n",
              "    </script>\n",
              "  </div>\n",
              "\n",
              "    </div>\n",
              "  </div>\n"
            ],
            "application/vnd.google.colaboratory.intrinsic+json": {
              "type": "dataframe",
              "variable_name": "results_df",
              "summary": "{\n  \"name\": \"results_df\",\n  \"rows\": 5,\n  \"fields\": [\n    {\n      \"column\": \"Model\",\n      \"properties\": {\n        \"dtype\": \"string\",\n        \"num_unique_values\": 5,\n        \"samples\": [\n          \"Decision Tree\",\n          \"SVM\",\n          \"Random Forest\"\n        ],\n        \"semantic_type\": \"\",\n        \"description\": \"\"\n      }\n    },\n    {\n      \"column\": \"F1 Score\",\n      \"properties\": {\n        \"dtype\": \"number\",\n        \"std\": 0.016377679954459577,\n        \"min\": 0.8567543600228318,\n        \"max\": 0.8965266158697038,\n        \"num_unique_values\": 5,\n        \"samples\": [\n          0.8651051317948778,\n          0.8718902724030091,\n          0.888088172286447\n        ],\n        \"semantic_type\": \"\",\n        \"description\": \"\"\n      }\n    },\n    {\n      \"column\": \"ROC AUC\",\n      \"properties\": {\n        \"dtype\": \"number\",\n        \"std\": 0.06572151487347869,\n        \"min\": 0.7650825034418306,\n        \"max\": 0.9273164524524927,\n        \"num_unique_values\": 5,\n        \"samples\": [\n          0.7650825034418306,\n          0.8819094120248013,\n          0.9194712142376219\n        ],\n        \"semantic_type\": \"\",\n        \"description\": \"\"\n      }\n    }\n  ]\n}"
            }
          },
          "metadata": {},
          "execution_count": 16
        }
      ],
      "source": [
        "from sklearn.linear_model import LogisticRegression\n",
        "from sklearn.tree import DecisionTreeClassifier\n",
        "from sklearn.ensemble import RandomForestClassifier, GradientBoostingClassifier\n",
        "from sklearn.svm import SVC\n",
        "models = {\n",
        "    'Logistic Regression': LogisticRegression(max_iter=500, random_state=42),\n",
        "    'Decision Tree': DecisionTreeClassifier(random_state=42),\n",
        "    'Random Forest':RandomForestClassifier(random_state=42),\n",
        "    'Gradient Boosting': GradientBoostingClassifier(random_state=42),\n",
        "    'SVM': SVC(probability=True, random_state=42)\n",
        "\n",
        "}\n",
        "\n",
        "results = []\n",
        "for name, model in models.items():\n",
        "    pipe = ImbPipeline(steps=[\n",
        "        ('prep', preprocessor),\n",
        "        ('smote', SMOTE(random_state=42)),\n",
        "        ('clf', model)\n",
        "    ])\n",
        "    pipe.fit(X_train, y_train)\n",
        "    y_pred = pipe.predict(X_test)\n",
        "    y_proba = pipe.predict_proba(X_test)[:, 1] if hasattr(pipe, \"predict_proba\") else None\n",
        "    f1 = classification_report(y_test, y_pred, digits=3, output_dict=True)['weighted avg']['f1-score']\n",
        "    auc = roc_auc_score(y_test, y_proba) if y_proba is not None else None\n",
        "    results.append({'Model':name, 'F1 Score': f1, 'ROC AUC': auc})\n",
        "    print(f\"{name} finished.\")\n",
        "\n",
        "results_df = pd.DataFrame(results)\n",
        "results_df"
      ]
    },
    {
      "cell_type": "markdown",
      "source": [
        "##GridSearchCV for SVM(Tuning):\n",
        "\n",
        "Insights: Tune C, Kernel, gamma, scoring by ROC-AUC."
      ],
      "metadata": {
        "id": "DiHNFM6vhHbN"
      }
    },
    {
      "cell_type": "code",
      "execution_count": null,
      "metadata": {
        "colab": {
          "base_uri": "https://localhost:8080/"
        },
        "id": "gjyPXMwoXZzL",
        "outputId": "40eed792-ecac-4d2c-cf49-6257cb8a8423"
      },
      "outputs": [
        {
          "output_type": "stream",
          "name": "stdout",
          "text": [
            "Fitting 5 folds for each of 12 candidates, totalling 60 fits\n",
            "Best params: {'svc__C': 1, 'svc__gamma': 'scale', 'svc__kernel': 'linear'}\n"
          ]
        }
      ],
      "source": [
        "param_grid = {\n",
        "    'svc__C':[0.1, 1, 10],\n",
        "    'svc__kernel': ['linear', 'rbf'],\n",
        "    'svc__gamma': ['scale', 'auto']\n",
        "}\n",
        "grid_pipeline = ImbPipeline(steps=[\n",
        "    ('preprocessor', preprocessor),\n",
        "    ('smote', SMOTE(random_state=42)),\n",
        "    ('svc', SVC(probability=True, random_state=42)),\n",
        "\n",
        "])\n",
        "grid = GridSearchCV(\n",
        "    estimator=grid_pipeline,\n",
        "    param_grid=param_grid,\n",
        "    cv=5,\n",
        "    scoring='roc_auc',\n",
        "    n_jobs=-1,\n",
        "    verbose=1\n",
        "\n",
        ")\n",
        "grid.fit(X_train, y_train)\n",
        "joblib.dump(grid,'gridsearch_svm.pkl')\n",
        "best = grid.best_estimator_\n",
        "print('Best params:', grid.best_params_)\n",
        "\n"
      ]
    },
    {
      "cell_type": "markdown",
      "source": [
        "###Model selection:\n",
        "\n",
        "Evaluate best model on test set\n",
        "Insight: use classification report and ROC AUC to measure performance.\n"
      ],
      "metadata": {
        "id": "LxaBY-C3sWvT"
      }
    },
    {
      "cell_type": "code",
      "execution_count": null,
      "metadata": {
        "id": "gTkDKEBza5P0",
        "colab": {
          "base_uri": "https://localhost:8080/"
        },
        "outputId": "2e9df3ae-d6f8-4b2e-ed4c-0252f74076dc"
      },
      "outputs": [
        {
          "output_type": "stream",
          "name": "stdout",
          "text": [
            "Best params: {'svc__C': 1, 'svc__gamma': 'scale', 'svc__kernel': 'linear'}\n",
            "              precision    recall  f1-score   support\n",
            "\n",
            "       False       0.95      0.89      0.92      2084\n",
            "        True       0.56      0.75      0.64       382\n",
            "\n",
            "    accuracy                           0.87      2466\n",
            "   macro avg       0.76      0.82      0.78      2466\n",
            "weighted avg       0.89      0.87      0.88      2466\n",
            "\n",
            "ROC AUC: 0.9052742912843806\n",
            "confusion matrix:\n",
            " [[1863  221]\n",
            " [  96  286]]\n"
          ]
        }
      ],
      "source": [
        "best = grid.best_estimator_\n",
        "print(\"Best params:\", grid.best_params_)\n",
        "y_pred = best.predict(X_test)\n",
        "y_proba = best.predict_proba(X_test)[:, 1]\n",
        "print(classification_report(y_test, y_pred))\n",
        "print(\"ROC AUC:\", roc_auc_score(y_test, y_proba))\n",
        "print(\"confusion matrix:\\n\", confusion_matrix(y_test, y_pred))"
      ]
    },
    {
      "cell_type": "markdown",
      "source": [
        "##ROC Curve:\n",
        "The ROC curve visualizes the trade_off between true positive rate\n",
        "and false positive rate for the final best model.\n",
        "The AUC summarizes ranking performance across thresholds."
      ],
      "metadata": {
        "id": "U_evrAdxKPIA"
      }
    },
    {
      "cell_type": "code",
      "source": [
        "from sklearn.metrics import roc_curve, auc\n",
        "import matplotlib.pyplot as plt\n",
        "\n",
        "try:\n",
        "    fpr, tpr, _ = roc_curve(y_test, y_proba)\n",
        "    roc_auc = auc(fpr, tpr)\n",
        "\n",
        "\n",
        "    plt.figure(figsize=(6,4))\n",
        "    plt.plot(fpr, tpr, label=f'ROC curve (AUC = {roc_auc:.3f})')\n",
        "    plt.plot([0, 1], [0, 1], linestyle='--', color='gray')\n",
        "    plt.xlabel('False Positive Rate')\n",
        "    plt.title('ROC Curve - Best Model')\n",
        "    plt.legend(loc='lower right')\n",
        "    plt.grid(alpha=0.3)\n",
        "    plt.show\n",
        "\n",
        "except NameError:\n",
        "    print(\"y_proba or y_test not found. Make sure you have executed the 'Evaluate best model' cell and saved y_proba from best.predict_proba(X_test).\")\n"
      ],
      "metadata": {
        "colab": {
          "base_uri": "https://localhost:8080/",
          "height": 410
        },
        "id": "VpgF0rWRKOxb",
        "outputId": "7ba893c9-59fd-42a3-a093-cf0d122a0ebe"
      },
      "execution_count": null,
      "outputs": [
        {
          "output_type": "display_data",
          "data": {
            "text/plain": [
              "<Figure size 600x400 with 1 Axes>"
            ],
            "image/png": "[encoded data removed]"
          },
          "metadata": {}
        }
      ]
    },
    {
      "cell_type": "markdown",
      "source": [
        "###5-Permutation Feature importance:\n",
        "\n",
        "Insight: model agnostic importance to understand top predictors."
      ],
      "metadata": {
        "id": "p6eWqW7etLcZ"
      }
    },
    {
      "cell_type": "code",
      "execution_count": null,
      "metadata": {
        "colab": {
          "base_uri": "https://localhost:8080/"
        },
        "id": "VsVeDgVSyIx5",
        "outputId": "db8c3898-23ee-46a6-d1dc-01c379c431fd"
      },
      "outputs": [
        {
          "output_type": "stream",
          "name": "stdout",
          "text": [
            "PageValues: importance mean=0.1309 std=0.0048\n",
            "OperatingSystems: importance mean=0.0026 std=0.0027\n",
            "Informational_Duration: importance mean=0.0010 std=0.0003\n",
            "Administrative_Duration: importance mean=0.0000 std=0.0000\n",
            "Month_Dec: importance mean=-0.0000 std=0.0002\n",
            "Region: importance mean=-0.0001 std=0.0002\n",
            "Month_Aug: importance mean=-0.0001 std=0.0006\n",
            "Browser: importance mean=-0.0002 std=0.0010\n",
            "Month_Feb: importance mean=-0.0003 std=0.0004\n",
            "SpecialDay: importance mean=-0.0003 std=0.0004\n"
          ]
        }
      ],
      "source": [
        "from sklearn.inspection import permutation_importance\n",
        "result = permutation_importance(best, X_test, y_test, n_repeats=10, random_state=42, n_jobs=-1)\n",
        "num_names = numeric_features\n",
        "ohe = best.named_steps['preprocessor'].named_transformers_['cat'].named_steps['onehot']\n",
        "ohe_names = list(ohe.get_feature_names_out(categorical_features))\n",
        "feature_names = np.concatenate([num_names, ohe_names])\n",
        "sorted_idx = result.importances_mean.argsort()[::-1]\n",
        "for i in sorted_idx[:10]:\n",
        "    print(f\"{feature_names[i]}: importance mean={result.importances_mean[i]:.4f} std={result.importances_std[i]:.4f}\")"
      ]
    },
    {
      "cell_type": "markdown",
      "source": [
        "###Feature importance barplot:\n",
        "\n",
        "\n",
        "I will show the top 10 features by permutation importance.\n",
        "These indicate which features most affect model performance and are useful for business interpretation."
      ],
      "metadata": {
        "id": "EGCBiHIi0oMg"
      }
    },
    {
      "cell_type": "code",
      "source": [
        "\n",
        "import matplotlib.pyplot as plt\n",
        "import seaborn as sns\n",
        "import numpy as np\n",
        "\n",
        "try:\n",
        "    sorted_idx = result.importances_mean.argsort()[::-1][:10]\n",
        "    top_feats = [feature_names[i] for i in sorted_idx]\n",
        "    top_means = result.importances_mean[sorted_idx]\n",
        "    top_std = result.importances_std[sorted_idx]\n",
        "    plt.figure(figsize=(8,6))\n",
        "    plt.barh(top_feats, top_means, xerr=top_std, color=sns.color_palette(\"viridis\", len(top_feats)))\n",
        "    plt.xlabel(\"Mean importance (permutation)\")\n",
        "    plt.xlabel(\"Top 10 features - Permutation importance\")\n",
        "    plt.gca().invert_yaxis()\n",
        "    plt.tight_layout()\n",
        "    plt.show()\n",
        "\n",
        "except NameError:\n",
        "    print(\"Permutation importance variables not found. Ensure you ran the permutation importance cell and created 'result' and 'feature_names'.\")\n"
      ],
      "metadata": {
        "colab": {
          "base_uri": "https://localhost:8080/",
          "height": 461
        },
        "id": "cCL6OKiH7vYY",
        "outputId": "fbdc64f0-21f4-4c63-f7ec-a0f02fcd173f"
      },
      "execution_count": null,
      "outputs": [
        {
          "output_type": "display_data",
          "data": {
            "text/plain": [
              "<Figure size 800x600 with 1 Axes>"
            ],
            "image/png": "[encoded data removed]"
          },
          "metadata": {}
        }
      ]
    },
    {
      "cell_type": "markdown",
      "source": [
        "###6-PCA experiment:\n",
        "Insight: test if dimensionality reduction improves runtime or generalization."
      ],
      "metadata": {
        "id": "KJK94Mviu2jR"
      }
    },
    {
      "cell_type": "code",
      "execution_count": null,
      "metadata": {
        "colab": {
          "base_uri": "https://localhost:8080/"
        },
        "id": "-JwpbkjzdIec",
        "outputId": "5c80ff87-311c-4898-df0a-d8a8b1a8ce81"
      },
      "outputs": [
        {
          "output_type": "stream",
          "name": "stdout",
          "text": [
            "PCA pipeline ROC AUC: 0.8813774356603792\n"
          ]
        }
      ],
      "source": [
        "pipe_pca = ImbPipeline(steps=[\n",
        "    ('preprocessor', preprocessor),\n",
        "    ('pca', PCA(n_components=0.95, svd_solver='full', random_state=42)),\n",
        "    ('smote', SMOTE(random_state=42)),\n",
        "    ('svc', SVC(probability=True, random_state=42))\n",
        "])\n",
        "pipe_pca.fit(X_train, y_train)\n",
        "print('PCA pipeline ROC AUC:',roc_auc_score(y_test, pipe_pca.predict_proba(X_test)[:,1]))\n",
        "\n"
      ]
    },
    {
      "cell_type": "markdown",
      "source": [
        "###7-Save final best pipeline:\n",
        "\n",
        "save our best model for deployment or future reuse."
      ],
      "metadata": {
        "id": "_zvPzDjHyQEk"
      }
    },
    {
      "cell_type": "code",
      "execution_count": null,
      "metadata": {
        "colab": {
          "base_uri": "https://localhost:8080/"
        },
        "id": "Y2IlMBjwxmjh",
        "outputId": "97c8a02e-9fc6-4217-907d-b66d11503733"
      },
      "outputs": [
        {
          "output_type": "execute_result",
          "data": {
            "text/plain": [
              "['svm_pipeline_with_preprocessing.pkl']"
            ]
          },
          "metadata": {},
          "execution_count": 25
        }
      ],
      "source": [
        "joblib.dump(best, 'svm_pipeline_with_preprocessing.pkl')"
      ]
    },
    {
      "cell_type": "markdown",
      "source": [
        "**8-Final Discussion and Business Recommendations:**\n",
        "\n",
        "In my project I tried to demonstrate that predicting whether an online shopper will complete a purchase is both feasible and valuable for e-commerce. The pipeline I built handled data cleaning, encoding, scaling, and class imbalance in a structured way. Using SMOTE helped the model better capture the minority “Purchase”class. Following this testing multiple algorithms with hyperparameter tuning ensured strong performance. Key features such as page value and session duration were found to be especially important and also aligns with real shopping behavior.\n"
      ],
      "metadata": {
        "id": "cdUbGvE187_v"
      }
    },
    {
      "cell_type": "markdown",
      "source": [
        "**In terms of limitation,**\n",
        " we can see, dataset comes from a single website and that is why results may not generalize across all e-commerce platforms. The futures are limited to browsing sessions without demographic or marketing data, which could improve accuracy. I think dimensionality reduction with PCA did not add value and additional competitions or benchmarks could have strengthened the evaluation."
      ],
      "metadata": {
        "id": "gah68m6n-szK"
      }
    },
    {
      "cell_type": "markdown",
      "source": [
        "**From a business perspective,** the model offers practical insights. It can help identify which visitors are unlikely to buy while highlighting those woth targeting with promotions or personalized recommendations.\n",
        "The results are explainable enough to guide actions like improving site speed or optimizing product pages.\n"
      ],
      "metadata": {
        "id": "VSAUNubF-1Pf"
      }
    },
    {
      "cell_type": "markdown",
      "source": [
        "**For future work**, deploying the model in real time and retraining it regularly with fresh data will be key. Exploring advanced model such as XGBoost or LightGBM could further improve results and adding interpretability tools like SHAP would make feature contributions clearer."
      ],
      "metadata": {
        "id": "YgVrh9yd-66P"
      }
    },
    {
      "cell_type": "markdown",
      "source": [
        "**In conclusion,** based on aforementioned compelling grounds the project provides a solid foundation for using machine learning to boost conversion rates. Following this, improve marketing efficiency, and create more personalized shopping experiences."
      ],
      "metadata": {
        "id": "kF0Mkurg-_ZC"
      }
    },
    {
      "cell_type": "markdown",
      "source": [],
      "metadata": {
        "id": "-khsE4DZ5knf"
      }
    },
    {
      "cell_type": "markdown",
      "source": [
        "\n",
        "\n",
        "\n",
        "\n",
        "\n",
        "\n",
        "\n",
        "\n",
        "\n",
        "\n",
        "\n",
        "\n",
        "\n",
        "\n",
        "\n",
        "###9-References:\n",
        "\n",
        "•\tChawla, N.V., Bowyer, K.W., Hall, L.O. and Kegelmeyer, W.P., 2002.SMOTE: Synthetic Minority Over-sampling Technique.Journal of Artificial Intelligence Research, 16, pp.321-357.\n",
        "•\tFawcett, T., 2006. An introduction to ROC analysis. Pattern Recognition Letter, 27(8), pp.861-874.\n",
        "\n",
        "•\tKaggle, 2025. Online shopers purchasing intention Dataset. Available at: https://www.kaggle.com/datasets/imakash3011/online-shoppers-purchasing-intention-dataset\n",
        "\n",
        "•\tLundberg, S.M. and Lee, S.I., 2017. A Unified Approach to Interpreting Model Predictions. Advances in Neural Information Processing Systems, 30, pp.4765-4774.\n",
        "\n",
        "•\tPedregosa, F. Et al., 2011. Scikit-learn: Machine Learning in Python.Journal of Machine Learning Research , 12, pp.2825-2830.\n",
        "\n",
        "\n",
        "•\tPedregosa, F. et al., 2011. Scikit-learn: Machine Learning in Python. Journal of Machine Learning Research, 12, pp.2825–2830.\n",
        "\n",
        "•\tscikit-learn, 2025. User Guide & API Reference. Available at: https://scikit-learn.org/ [Accessed 14 Aug. 2025].\n",
        "\n",
        "\n",
        "•\timbalanced-learn, 2025. Documentation. Available at: https://imbalanced-learn.org/ [Accessed 14 Aug. 2025].\n",
        "•\tHunter, J.D., 2007. Matplotlib: A 2D Graphics Environment. Computing in Science & Engineering, 9(3), pp.90–95.\n",
        "\n",
        "•\tMcKinney, W., 2010. Data Structures for Statistical Computing in Python. Proceedings of the 9th Python in Science Conference, pp.51–56.\n",
        "\n",
        "•\tBreman, L., 2001.Rndom forests. Machine Learning, 45(1), pp.5-32\n",
        "\n",
        "\n",
        "•\tCorers, C. and Vapnik, V., 1995.Support-vector networks.Machine Learning, 20(3), pp.273-297.\n",
        "\n",
        "•\tFriedman, J.H., 2001. Greedy function approximation: A gradient boosting machine.\n",
        "•\tAnnals of Statistics, 29(5), pp.1189-1232.\n"
      ],
      "metadata": {
        "id": "vr80I2NG_NcP"
      }
    },
    {
      "cell_type": "code",
      "source": [
        "#@title Convert ipynb to HTML in Colab\n",
        "# Upload ipynb\n",
        "from google.colab import files\n",
        "f = files.upload()\n",
        "\n",
        "# Convert ipynb to html\n",
        "import subprocess\n",
        "file0 = list(f.keys())[0]\n",
        "_ = subprocess.run([\"pip\", \"install\", \"nbconvert\"])\n",
        "_ = subprocess.run([\"jupyter\", \"nbconvert\", file0, \"--to\", \"html\"])\n",
        "\n",
        "# download the html\n",
        "files.download(file0[:-5]+\"html\")\n"
      ],
      "metadata": {
        "colab": {
          "base_uri": "https://localhost:8080/",
          "height": 69
        },
        "id": "rc4V00pYAQEO",
        "outputId": "fe16178d-b917-4183-faa7-f35ca181e5c5"
      },
      "execution_count": 47,
      "outputs": [
        {
          "output_type": "display_data",
          "data": {
            "text/plain": [
              "<IPython.core.display.HTML object>"
            ],
            "text/html": [
              "\n",
              "     <input type=\"file\" id=\"files-52f801f0-a740-474a-b3b1-8f4eab13e0cc\" name=\"files[]\" multiple disabled\n",
              "        style=\"border:none\" />\n",
              "     <output id=\"result-52f801f0-a740-474a-b3b1-8f4eab13e0cc\">\n",
              "      Upload widget is only available when the cell has been executed in the\n",
              "      current browser session. Please rerun this cell to enable.\n",
              "      </output>\n",
              "      <script>// Copyright 2017 Google LLC\n",
              "//\n",
              "// Licensed under the Apache License, Version 2.0 (the \"License\");\n",
              "// you may not use this file except in compliance with the License.\n",
              "// You may obtain a copy of the License at\n",
              "//\n",
              "//      http://www.apache.org/licenses/LICENSE-2.0\n",
              "//\n",
              "// Unless required by applicable law or agreed to in writing, software\n",
              "// distributed under the License is distributed on an \"AS IS\" BASIS,\n",
              "// WITHOUT WARRANTIES OR CONDITIONS OF ANY KIND, either express or implied.\n",
              "// See the License for the specific language governing permissions and\n",
              "// limitations under the License.\n",
              "\n",
              "/**\n",
              " * @fileoverview Helpers for google.colab Python module.\n",
              " */\n",
              "(function(scope) {\n",
              "function span(text, styleAttributes = {}) {\n",
              "  const element = document.createElement('span');\n",
              "  element.textContent = text;\n",
              "  for (const key of Object.keys(styleAttributes)) {\n",
              "    element.style[key] = styleAttributes[key];\n",
              "  }\n",
              "  return element;\n",
              "}\n",
              "\n",
              "// Max number of bytes which will be uploaded at a time.\n",
              "const MAX_PAYLOAD_SIZE = 100 * 1024;\n",
              "\n",
              "function _uploadFiles(inputId, outputId) {\n",
              "  const steps = uploadFilesStep(inputId, outputId);\n",
              "  const outputElement = document.getElementById(outputId);\n",
              "  // Cache steps on the outputElement to make it available for the next call\n",
              "  // to uploadFilesContinue from Python.\n",
              "  outputElement.steps = steps;\n",
              "\n",
              "  return _uploadFilesContinue(outputId);\n",
              "}\n",
              "\n",
              "// This is roughly an async generator (not supported in the browser yet),\n",
              "// where there are multiple asynchronous steps and the Python side is going\n",
              "// to poll for completion of each step.\n",
              "// This uses a Promise to block the python side on completion of each step,\n",
              "// then passes the result of the previous step as the input to the next step.\n",
              "function _uploadFilesContinue(outputId) {\n",
              "  const outputElement = document.getElementById(outputId);\n",
              "  const steps = outputElement.steps;\n",
              "\n",
              "  const next = steps.next(outputElement.lastPromiseValue);\n",
              "  return Promise.resolve(next.value.promise).then((value) => {\n",
              "    // Cache the last promise value to make it available to the next\n",
              "    // step of the generator.\n",
              "    outputElement.lastPromiseValue = value;\n",
              "    return next.value.response;\n",
              "  });\n",
              "}\n",
              "\n",
              "/**\n",
              " * Generator function which is called between each async step of the upload\n",
              " * process.\n",
              " * @param {string} inputId Element ID of the input file picker element.\n",
              " * @param {string} outputId Element ID of the output display.\n",
              " * @return {!Iterable<!Object>} Iterable of next steps.\n",
              " */\n",
              "function* uploadFilesStep(inputId, outputId) {\n",
              "  const inputElement = document.getElementById(inputId);\n",
              "  inputElement.disabled = false;\n",
              "\n",
              "  const outputElement = document.getElementById(outputId);\n",
              "  outputElement.innerHTML = '';\n",
              "\n",
              "  const pickedPromise = new Promise((resolve) => {\n",
              "    inputElement.addEventListener('change', (e) => {\n",
              "      resolve(e.target.files);\n",
              "    });\n",
              "  });\n",
              "\n",
              "  const cancel = document.createElement('button');\n",
              "  inputElement.parentElement.appendChild(cancel);\n",
              "  cancel.textContent = 'Cancel upload';\n",
              "  const cancelPromise = new Promise((resolve) => {\n",
              "    cancel.onclick = () => {\n",
              "      resolve(null);\n",
              "    };\n",
              "  });\n",
              "\n",
              "  // Wait for the user to pick the files.\n",
              "  const files = yield {\n",
              "    promise: Promise.race([pickedPromise, cancelPromise]),\n",
              "    response: {\n",
              "      action: 'starting',\n",
              "    }\n",
              "  };\n",
              "\n",
              "  cancel.remove();\n",
              "\n",
              "  // Disable the input element since further picks are not allowed.\n",
              "  inputElement.disabled = true;\n",
              "\n",
              "  if (!files) {\n",
              "    return {\n",
              "      response: {\n",
              "        action: 'complete',\n",
              "      }\n",
              "    };\n",
              "  }\n",
              "\n",
              "  for (const file of files) {\n",
              "    const li = document.createElement('li');\n",
              "    li.append(span(file.name, {fontWeight: 'bold'}));\n",
              "    li.append(span(\n",
              "        `(${file.type || 'n/a'}) - ${file.size} bytes, ` +\n",
              "        `last modified: ${\n",
              "            file.lastModifiedDate ? file.lastModifiedDate.toLocaleDateString() :\n",
              "                                    'n/a'} - `));\n",
              "    const percent = span('0% done');\n",
              "    li.appendChild(percent);\n",
              "\n",
              "    outputElement.appendChild(li);\n",
              "\n",
              "    const fileDataPromise = new Promise((resolve) => {\n",
              "      const reader = new FileReader();\n",
              "      reader.onload = (e) => {\n",
              "        resolve(e.target.result);\n",
              "      };\n",
              "      reader.readAsArrayBuffer(file);\n",
              "    });\n",
              "    // Wait for the data to be ready.\n",
              "    let fileData = yield {\n",
              "      promise: fileDataPromise,\n",
              "      response: {\n",
              "        action: 'continue',\n",
              "      }\n",
              "    };\n",
              "\n",
              "    // Use a chunked sending to avoid message size limits. See b/62115660.\n",
              "    let position = 0;\n",
              "    do {\n",
              "      const length = Math.min(fileData.byteLength - position, MAX_PAYLOAD_SIZE);\n",
              "      const chunk = new Uint8Array(fileData, position, length);\n",
              "      position += length;\n",
              "\n",
              "      const base64 = btoa(String.fromCharCode.apply(null, chunk));\n",
              "      yield {\n",
              "        response: {\n",
              "          action: 'append',\n",
              "          file: file.name,\n",
              "          data: base64,\n",
              "        },\n",
              "      };\n",
              "\n",
              "      let percentDone = fileData.byteLength === 0 ?\n",
              "          100 :\n",
              "          Math.round((position / fileData.byteLength) * 100);\n",
              "      percent.textContent = `${percentDone}% done`;\n",
              "\n",
              "    } while (position < fileData.byteLength);\n",
              "  }\n",
              "\n",
              "  // All done.\n",
              "  yield {\n",
              "    response: {\n",
              "      action: 'complete',\n",
              "    }\n",
              "  };\n",
              "}\n",
              "\n",
              "scope.google = scope.google || {};\n",
              "scope.google.colab = scope.google.colab || {};\n",
              "scope.google.colab._files = {\n",
              "  _uploadFiles,\n",
              "  _uploadFilesContinue,\n",
              "};\n",
              "})(self);\n",
              "</script> "
            ]
          },
          "metadata": {}
        },
        {
          "output_type": "stream",
          "name": "stdout",
          "text": [
            "Saving B104_Machine_learning.ipynb to B104_Machine_learning.ipynb\n"
          ]
        },
        {
          "output_type": "display_data",
          "data": {
            "text/plain": [
              "<IPython.core.display.Javascript object>"
            ],
            "application/javascript": [
              "\n",
              "    async function download(id, filename, size) {\n",
              "      if (!google.colab.kernel.accessAllowed) {\n",
              "        return;\n",
              "      }\n",
              "      const div = document.createElement('div');\n",
              "      const label = document.createElement('label');\n",
              "      label.textContent = `Downloading \"${filename}\": `;\n",
              "      div.appendChild(label);\n",
              "      const progress = document.createElement('progress');\n",
              "      progress.max = size;\n",
              "      div.appendChild(progress);\n",
              "      document.body.appendChild(div);\n",
              "\n",
              "      const buffers = [];\n",
              "      let downloaded = 0;\n",
              "\n",
              "      const channel = await google.colab.kernel.comms.open(id);\n",
              "      // Send a message to notify the kernel that we're ready.\n",
              "      channel.send({})\n",
              "\n",
              "      for await (const message of channel.messages) {\n",
              "        // Send a message to notify the kernel that we're ready.\n",
              "        channel.send({})\n",
              "        if (message.buffers) {\n",
              "          for (const buffer of message.buffers) {\n",
              "            buffers.push(buffer);\n",
              "            downloaded += buffer.byteLength;\n",
              "            progress.value = downloaded;\n",
              "          }\n",
              "        }\n",
              "      }\n",
              "      const blob = new Blob(buffers, {type: 'application/binary'});\n",
              "      const a = document.createElement('a');\n",
              "      a.href = window.URL.createObjectURL(blob);\n",
              "      a.download = filename;\n",
              "      div.appendChild(a);\n",
              "      a.click();\n",
              "      div.remove();\n",
              "    }\n",
              "  "
            ]
          },
          "metadata": {}
        },
        {
          "output_type": "display_data",
          "data": {
            "text/plain": [
              "<IPython.core.display.Javascript object>"
            ],
            "application/javascript": [
              "download(\"download_5f69b61b-08f9-4376-b2f6-718354e1c8f1\", \"B104_Machine_learning.html\", 436992)"
            ]
          },
          "metadata": {}
        }
      ]
    }
  ],
  "metadata": {
    "colab": {
      "provenance": []
    },
    "kernelspec": {
      "display_name": "Python 3",
      "name": "python3"
    },
    "language_info": {
      "name": "python"
    }
  },
  "nbformat": 4,
  "nbformat_minor": 0
}